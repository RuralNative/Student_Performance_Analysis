{
 "cells": [
  {
   "cell_type": "code",
   "execution_count": 1,
   "id": "7dffd661",
   "metadata": {
    "_cell_guid": "b1076dfc-b9ad-4769-8c92-a6c4dae69d19",
    "_uuid": "8f2839f25d086af736a60e9eeb907d3b93b6e0e5",
    "execution": {
     "iopub.execute_input": "2023-07-27T21:04:41.970950Z",
     "iopub.status.busy": "2023-07-27T21:04:41.970533Z",
     "iopub.status.idle": "2023-07-27T21:04:52.285413Z",
     "shell.execute_reply": "2023-07-27T21:04:52.283689Z"
    },
    "papermill": {
     "duration": 10.325123,
     "end_time": "2023-07-27T21:04:52.288097",
     "exception": false,
     "start_time": "2023-07-27T21:04:41.962974",
     "status": "completed"
    },
    "tags": []
   },
   "outputs": [
    {
     "name": "stderr",
     "output_type": "stream",
     "text": [
      "/opt/conda/lib/python3.10/site-packages/scipy/__init__.py:146: UserWarning: A NumPy version >=1.16.5 and <1.23.0 is required for this version of SciPy (detected version 1.23.5\n",
      "  warnings.warn(f\"A NumPy version >={np_minversion} and <{np_maxversion}\"\n",
      "/opt/conda/lib/python3.10/site-packages/tensorflow_io/python/ops/__init__.py:98: UserWarning: unable to load libtensorflow_io_plugins.so: unable to open file: libtensorflow_io_plugins.so, from paths: ['/opt/conda/lib/python3.10/site-packages/tensorflow_io/python/ops/libtensorflow_io_plugins.so']\n",
      "caused by: ['/opt/conda/lib/python3.10/site-packages/tensorflow_io/python/ops/libtensorflow_io_plugins.so: undefined symbol: _ZN3tsl6StatusC1EN10tensorflow5error4CodeESt17basic_string_viewIcSt11char_traitsIcEENS_14SourceLocationE']\n",
      "  warnings.warn(f\"unable to load libtensorflow_io_plugins.so: {e}\")\n",
      "/opt/conda/lib/python3.10/site-packages/tensorflow_io/python/ops/__init__.py:104: UserWarning: file system plugins are not loaded: unable to open file: libtensorflow_io.so, from paths: ['/opt/conda/lib/python3.10/site-packages/tensorflow_io/python/ops/libtensorflow_io.so']\n",
      "caused by: ['/opt/conda/lib/python3.10/site-packages/tensorflow_io/python/ops/libtensorflow_io.so: undefined symbol: _ZTVN10tensorflow13GcsFileSystemE']\n",
      "  warnings.warn(f\"file system plugins are not loaded: {e}\")\n"
     ]
    },
    {
     "name": "stdout",
     "output_type": "stream",
     "text": [
      "Training Data:\n",
      "<class 'pandas.core.frame.DataFrame'>\n",
      "RangeIndex: 4920 entries, 0 to 4919\n",
      "Columns: 134 entries, itching to Unnamed: 133\n",
      "dtypes: float64(1), int64(132), object(1)\n",
      "memory usage: 5.0+ MB\n",
      "\n",
      "Test Data:\n",
      "<class 'pandas.core.frame.DataFrame'>\n",
      "RangeIndex: 42 entries, 0 to 41\n",
      "Columns: 133 entries, itching to prognosis\n",
      "dtypes: int64(132), object(1)\n",
      "memory usage: 43.8+ KB\n"
     ]
    }
   ],
   "source": [
    "# Importation of necessary packages/modules\n",
    "\n",
    "import numpy as np \n",
    "import pandas as pd \n",
    "\n",
    "import tensorflow as tf\n",
    "from tensorflow import keras\n",
    "\n",
    "from sklearn import preprocessing\n",
    "from sklearn.model_selection import train_test_split\n",
    "from sklearn.preprocessing import StandardScaler\n",
    "\n",
    "import matplotlib.pyplot as plt\n",
    "\n",
    "#Importation of dataset for training/testing data\n",
    "import os\n",
    "for dirname, _, filenames in os.walk('/kaggle/input/disease-prediction-using-machine-learning'):\n",
    "    for filename in filenames:\n",
    "        if filename == 'Training.csv':\n",
    "            train_filepath = os.path.join(dirname, filename)\n",
    "            training_data = pd.read_csv(train_filepath)\n",
    "        elif filename == 'Testing.csv':\n",
    "            test_filepath = os.path.join(dirname, filename)\n",
    "            test_data = pd.read_csv(test_filepath)\n",
    "\n",
    "#Check content of data variables\n",
    "print(\"Training Data:\")\n",
    "training_data.info()\n",
    "print(\"\\nTest Data:\")\n",
    "test_data.info()"
   ]
  },
  {
   "cell_type": "markdown",
   "id": "c229fdd3",
   "metadata": {
    "papermill": {
     "duration": 0.005288,
     "end_time": "2023-07-27T21:04:52.299271",
     "exception": false,
     "start_time": "2023-07-27T21:04:52.293983",
     "status": "completed"
    },
    "tags": []
   },
   "source": [
    "**Data Preprocessing**"
   ]
  },
  {
   "cell_type": "code",
   "execution_count": 2,
   "id": "568455be",
   "metadata": {
    "execution": {
     "iopub.execute_input": "2023-07-27T21:04:52.312914Z",
     "iopub.status.busy": "2023-07-27T21:04:52.312230Z",
     "iopub.status.idle": "2023-07-27T21:04:52.326357Z",
     "shell.execute_reply": "2023-07-27T21:04:52.325100Z"
    },
    "papermill": {
     "duration": 0.024126,
     "end_time": "2023-07-27T21:04:52.329056",
     "exception": false,
     "start_time": "2023-07-27T21:04:52.304930",
     "status": "completed"
    },
    "tags": []
   },
   "outputs": [
    {
     "data": {
      "text/plain": [
       "itching                    0\n",
       "skin_rash                  0\n",
       "nodal_skin_eruptions       0\n",
       "continuous_sneezing        0\n",
       "shivering                  0\n",
       "                        ... \n",
       "blister                    0\n",
       "red_sore_around_nose       0\n",
       "yellow_crust_ooze          0\n",
       "prognosis                  0\n",
       "Unnamed: 133            4920\n",
       "Length: 134, dtype: int64"
      ]
     },
     "execution_count": 2,
     "metadata": {},
     "output_type": "execute_result"
    }
   ],
   "source": [
    "# Check for columns with null values\n",
    "training_data.isnull().sum()"
   ]
  },
  {
   "cell_type": "code",
   "execution_count": 3,
   "id": "e7aee7ec",
   "metadata": {
    "execution": {
     "iopub.execute_input": "2023-07-27T21:04:52.342630Z",
     "iopub.status.busy": "2023-07-27T21:04:52.342217Z",
     "iopub.status.idle": "2023-07-27T21:04:52.351216Z",
     "shell.execute_reply": "2023-07-27T21:04:52.349906Z"
    },
    "papermill": {
     "duration": 0.018743,
     "end_time": "2023-07-27T21:04:52.353638",
     "exception": false,
     "start_time": "2023-07-27T21:04:52.334895",
     "status": "completed"
    },
    "tags": []
   },
   "outputs": [],
   "source": [
    "# Preprocess categorical data in prognosis column into numerical values\n",
    "dataframes = [training_data, test_data]\n",
    "\n",
    "label_encoder = preprocessing.LabelEncoder()\n",
    "for dataframe in dataframes:\n",
    "    dataframe['prognosis'] = label_encoder.fit_transform(dataframe['prognosis'])"
   ]
  },
  {
   "cell_type": "code",
   "execution_count": 4,
   "id": "bf7004c3",
   "metadata": {
    "execution": {
     "iopub.execute_input": "2023-07-27T21:04:52.367274Z",
     "iopub.status.busy": "2023-07-27T21:04:52.366669Z",
     "iopub.status.idle": "2023-07-27T21:04:52.374074Z",
     "shell.execute_reply": "2023-07-27T21:04:52.373052Z"
    },
    "papermill": {
     "duration": 0.017696,
     "end_time": "2023-07-27T21:04:52.377126",
     "exception": false,
     "start_time": "2023-07-27T21:04:52.359430",
     "status": "completed"
    },
    "tags": []
   },
   "outputs": [],
   "source": [
    "# Convert DataFrame to Numpy Arrays\n",
    "training_numpy = training_data.to_numpy()\n",
    "test_numpy = test_data.to_numpy()"
   ]
  },
  {
   "cell_type": "code",
   "execution_count": 5,
   "id": "a98eba3f",
   "metadata": {
    "execution": {
     "iopub.execute_input": "2023-07-27T21:04:52.390947Z",
     "iopub.status.busy": "2023-07-27T21:04:52.390488Z",
     "iopub.status.idle": "2023-07-27T21:04:52.396555Z",
     "shell.execute_reply": "2023-07-27T21:04:52.395380Z"
    },
    "papermill": {
     "duration": 0.015974,
     "end_time": "2023-07-27T21:04:52.399314",
     "exception": false,
     "start_time": "2023-07-27T21:04:52.383340",
     "status": "completed"
    },
    "tags": []
   },
   "outputs": [],
   "source": [
    "# Separate features to target variables for both train/test data\n",
    "x_train = training_numpy[:,0:132]\n",
    "x_test = test_numpy[:,0:132]\n",
    "\n",
    "y_train = training_numpy[:,132]\n",
    "y_test = test_numpy[:,132]"
   ]
  },
  {
   "cell_type": "code",
   "execution_count": 6,
   "id": "f9c0ff8f",
   "metadata": {
    "execution": {
     "iopub.execute_input": "2023-07-27T21:04:52.413554Z",
     "iopub.status.busy": "2023-07-27T21:04:52.412714Z",
     "iopub.status.idle": "2023-07-27T21:04:52.432227Z",
     "shell.execute_reply": "2023-07-27T21:04:52.431240Z"
    },
    "papermill": {
     "duration": 0.029577,
     "end_time": "2023-07-27T21:04:52.434862",
     "exception": false,
     "start_time": "2023-07-27T21:04:52.405285",
     "status": "completed"
    },
    "tags": []
   },
   "outputs": [],
   "source": [
    "# Scale data for effective NN training\n",
    "data_scaler = StandardScaler().fit(x_train)\n",
    "\n",
    "x_train = data_scaler.transform(x_train)\n",
    "x_test = data_scaler.transform(x_test)"
   ]
  },
  {
   "cell_type": "code",
   "execution_count": 7,
   "id": "bc36f2d1",
   "metadata": {
    "execution": {
     "iopub.execute_input": "2023-07-27T21:04:52.449255Z",
     "iopub.status.busy": "2023-07-27T21:04:52.448399Z",
     "iopub.status.idle": "2023-07-27T21:04:52.455530Z",
     "shell.execute_reply": "2023-07-27T21:04:52.454340Z"
    },
    "papermill": {
     "duration": 0.017307,
     "end_time": "2023-07-27T21:04:52.458363",
     "exception": false,
     "start_time": "2023-07-27T21:04:52.441056",
     "status": "completed"
    },
    "tags": []
   },
   "outputs": [],
   "source": [
    "# Use one-hot encoding for categorical target variables\n",
    "y_train = tf.keras.utils.to_categorical(y_train,41)\n",
    "y_test = tf.keras.utils.to_categorical(y_test,41)"
   ]
  },
  {
   "cell_type": "code",
   "execution_count": 8,
   "id": "8d7b1825",
   "metadata": {
    "execution": {
     "iopub.execute_input": "2023-07-27T21:04:52.471702Z",
     "iopub.status.busy": "2023-07-27T21:04:52.471211Z",
     "iopub.status.idle": "2023-07-27T21:04:52.477275Z",
     "shell.execute_reply": "2023-07-27T21:04:52.476069Z"
    },
    "papermill": {
     "duration": 0.016361,
     "end_time": "2023-07-27T21:04:52.480507",
     "exception": false,
     "start_time": "2023-07-27T21:04:52.464146",
     "status": "completed"
    },
    "tags": []
   },
   "outputs": [
    {
     "name": "stdout",
     "output_type": "stream",
     "text": [
      "(4920, 132)\n",
      "(4920, 41)\n"
     ]
    }
   ],
   "source": [
    "print(x_train.shape)\n",
    "print(y_train.shape)"
   ]
  },
  {
   "cell_type": "markdown",
   "id": "3922316e",
   "metadata": {
    "papermill": {
     "duration": 0.005647,
     "end_time": "2023-07-27T21:04:52.492153",
     "exception": false,
     "start_time": "2023-07-27T21:04:52.486506",
     "status": "completed"
    },
    "tags": []
   },
   "source": [
    "**Model Architecture**"
   ]
  },
  {
   "cell_type": "code",
   "execution_count": 9,
   "id": "78962328",
   "metadata": {
    "execution": {
     "iopub.execute_input": "2023-07-27T21:04:52.506195Z",
     "iopub.status.busy": "2023-07-27T21:04:52.505468Z",
     "iopub.status.idle": "2023-07-27T21:04:52.732045Z",
     "shell.execute_reply": "2023-07-27T21:04:52.730332Z"
    },
    "papermill": {
     "duration": 0.242423,
     "end_time": "2023-07-27T21:04:52.740465",
     "exception": false,
     "start_time": "2023-07-27T21:04:52.498042",
     "status": "completed"
    },
    "tags": []
   },
   "outputs": [
    {
     "name": "stdout",
     "output_type": "stream",
     "text": [
      "Model: \"sequential\"\n",
      "_________________________________________________________________\n",
      " Layer (type)                Output Shape              Param #   \n",
      "=================================================================\n",
      " Hidden_Layer_1 (Dense)      (None, 16)                2128      \n",
      "                                                                 \n",
      " Hidden_Layer_2 (Dense)      (None, 16)                272       \n",
      "                                                                 \n",
      " Output_Layer (Dense)        (None, 41)                697       \n",
      "                                                                 \n",
      "=================================================================\n",
      "Total params: 3,097\n",
      "Trainable params: 3,097\n",
      "Non-trainable params: 0\n",
      "_________________________________________________________________\n"
     ]
    }
   ],
   "source": [
    "target_output = 41\n",
    "hidden_layer_function = 'sigmoid'\n",
    "\n",
    "model = tf.keras.models.Sequential()\n",
    "\n",
    "# Add hidden layers\n",
    "model.add(keras.layers.Dense(16,\n",
    "                            input_shape = (132,),\n",
    "                            name = \"Hidden_Layer_1\",\n",
    "                            activation = 'relu'))\n",
    "# Add hidden layers\n",
    "model.add(keras.layers.Dense(16,\n",
    "                            name = \"Hidden_Layer_2\",\n",
    "                            activation = 'relu'))\n",
    "# Add output layer\n",
    "model.add(keras.layers.Dense(target_output,\n",
    "                            name = \"Output_Layer\",\n",
    "                            activation = 'softmax'))\n",
    "\n",
    "# Compile the model\n",
    "model.compile(loss = 'categorical_crossentropy',\n",
    "            optimizer = 'adam',\n",
    "            metrics = ['accuracy'])\n",
    "model.summary()"
   ]
  },
  {
   "cell_type": "code",
   "execution_count": 10,
   "id": "449852ee",
   "metadata": {
    "execution": {
     "iopub.execute_input": "2023-07-27T21:04:52.758061Z",
     "iopub.status.busy": "2023-07-27T21:04:52.757676Z",
     "iopub.status.idle": "2023-07-27T21:04:57.374189Z",
     "shell.execute_reply": "2023-07-27T21:04:57.373113Z"
    },
    "papermill": {
     "duration": 4.628923,
     "end_time": "2023-07-27T21:04:57.376578",
     "exception": false,
     "start_time": "2023-07-27T21:04:52.747655",
     "status": "completed"
    },
    "tags": []
   },
   "outputs": [
    {
     "name": "stdout",
     "output_type": "stream",
     "text": [
      "\n",
      "Training Progress:\n",
      "------------------------------------\n",
      "Epoch 1/5\n",
      "246/246 [==============================] - 2s 3ms/step - loss: 2.2879 - accuracy: 0.4568 - val_loss: 0.6207 - val_accuracy: 0.9512\n",
      "Epoch 2/5\n",
      "246/246 [==============================] - 1s 2ms/step - loss: 0.2277 - accuracy: 0.9914 - val_loss: 0.0319 - val_accuracy: 1.0000\n",
      "Epoch 3/5\n",
      "246/246 [==============================] - 1s 2ms/step - loss: 0.0322 - accuracy: 0.9997 - val_loss: 0.0086 - val_accuracy: 1.0000\n",
      "Epoch 4/5\n",
      "246/246 [==============================] - 1s 2ms/step - loss: 0.0127 - accuracy: 1.0000 - val_loss: 0.0039 - val_accuracy: 1.0000\n",
      "Epoch 5/5\n",
      "246/246 [==============================] - 1s 2ms/step - loss: 0.0069 - accuracy: 1.0000 - val_loss: 0.0021 - val_accuracy: 1.0000\n",
      "\n",
      "Accuracy during Training :\n",
      "------------------------------------\n"
     ]
    },
    {
     "data": {
      "image/png": "[encoded data removed]",
      "text/plain": [
       "<Figure size 800x500 with 1 Axes>"
      ]
     },
     "metadata": {},
     "output_type": "display_data"
    },
    {
     "name": "stdout",
     "output_type": "stream",
     "text": [
      "\n",
      "Evaluation against Test Dataset :\n",
      "------------------------------------\n",
      "2/2 [==============================] - 0s 6ms/step - loss: 0.1526 - accuracy: 0.9762\n"
     ]
    },
    {
     "data": {
      "text/plain": [
       "[0.15259402990341187, 0.976190447807312]"
      ]
     },
     "execution_count": 10,
     "metadata": {},
     "output_type": "execute_result"
    }
   ],
   "source": [
    "#Make it verbose so we can see the progress\n",
    "VERBOSE=1\n",
    "\n",
    "#Setup Hyper Parameters for training\n",
    "\n",
    "#Set Batch size\n",
    "BATCH_SIZE=16\n",
    "#Set number of epochs\n",
    "EPOCHS=5\n",
    "#Set validation split. 20% of the training data will be used for validation\n",
    "#after each epoch\n",
    "VALIDATION_SPLIT=0.2\n",
    "\n",
    "print(\"\\nTraining Progress:\\n------------------------------------\")\n",
    "\n",
    "#Fit the model. This will perform the entire training cycle, including\n",
    "#forward propagation, loss computation, backward propagation and gradient descent.\n",
    "#Execute for the specified batch sizes and epoch\n",
    "#Perform validation after each epoch \n",
    "history=model.fit(x_train,\n",
    "          y_train,\n",
    "          batch_size=BATCH_SIZE,\n",
    "          epochs=EPOCHS,\n",
    "          verbose=VERBOSE,\n",
    "          validation_split=VALIDATION_SPLIT)\n",
    "\n",
    "print(\"\\nAccuracy during Training :\\n------------------------------------\")\n",
    "\n",
    "#Plot accuracy of the model after each epoch.\n",
    "pd.DataFrame(history.history)[\"accuracy\"].plot(figsize=(8, 5))\n",
    "plt.title(\"Accuracy improvements with Epoch\")\n",
    "plt.show()\n",
    "\n",
    "#Evaluate the model against the test dataset and print results\n",
    "print(\"\\nEvaluation against Test Dataset :\\n------------------------------------\")\n",
    "model.evaluate(x_test,y_test)"
   ]
  },
  {
   "cell_type": "markdown",
   "id": "5af645d3",
   "metadata": {
    "papermill": {
     "duration": 0.013088,
     "end_time": "2023-07-27T21:04:57.402951",
     "exception": false,
     "start_time": "2023-07-27T21:04:57.389863",
     "status": "completed"
    },
    "tags": []
   },
   "source": [
    "**Training\n",
    "**"
   ]
  },
  {
   "cell_type": "code",
   "execution_count": null,
   "id": "1d535fff",
   "metadata": {
    "papermill": {
     "duration": 0.012644,
     "end_time": "2023-07-27T21:04:57.428635",
     "exception": false,
     "start_time": "2023-07-27T21:04:57.415991",
     "status": "completed"
    },
    "tags": []
   },
   "outputs": [],
   "source": []
  }
 ],
 "metadata": {
  "kernelspec": {
   "display_name": "Python 3",
   "language": "python",
   "name": "python3"
  },
  "language_info": {
   "codemirror_mode": {
    "name": "ipython",
    "version": 3
   },
   "file_extension": ".py",
   "mimetype": "text/x-python",
   "name": "python",
   "nbconvert_exporter": "python",
   "pygments_lexer": "ipython3",
   "version": "3.10.12"
  },
  "papermill": {
   "default_parameters": {},
   "duration": 29.760448,
   "end_time": "2023-07-27T21:04:59.967411",
   "environment_variables": {},
   "exception": null,
   "input_path": "__notebook__.ipynb",
   "output_path": "__notebook__.ipynb",
   "parameters": {},
   "start_time": "2023-07-27T21:04:30.206963",
   "version": "2.4.0"
  }
 },
 "nbformat": 4,
 "nbformat_minor": 5
}
