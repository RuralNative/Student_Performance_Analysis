{
 "cells": [
  {
   "cell_type": "code",
   "execution_count": 1,
   "id": "bbfd8bfd",
   "metadata": {
    "_cell_guid": "b1076dfc-b9ad-4769-8c92-a6c4dae69d19",
    "_uuid": "8f2839f25d086af736a60e9eeb907d3b93b6e0e5",
    "execution": {
     "iopub.execute_input": "2023-07-27T08:49:07.448414Z",
     "iopub.status.busy": "2023-07-27T08:49:07.447843Z",
     "iopub.status.idle": "2023-07-27T08:49:19.866610Z",
     "shell.execute_reply": "2023-07-27T08:49:19.864967Z"
    },
    "papermill": {
     "duration": 12.429153,
     "end_time": "2023-07-27T08:49:19.870047",
     "exception": false,
     "start_time": "2023-07-27T08:49:07.440894",
     "status": "completed"
    },
    "tags": []
   },
   "outputs": [
    {
     "name": "stderr",
     "output_type": "stream",
     "text": [
      "/opt/conda/lib/python3.10/site-packages/scipy/__init__.py:146: UserWarning: A NumPy version >=1.16.5 and <1.23.0 is required for this version of SciPy (detected version 1.23.5\n",
      "  warnings.warn(f\"A NumPy version >={np_minversion} and <{np_maxversion}\"\n",
      "/opt/conda/lib/python3.10/site-packages/tensorflow_io/python/ops/__init__.py:98: UserWarning: unable to load libtensorflow_io_plugins.so: unable to open file: libtensorflow_io_plugins.so, from paths: ['/opt/conda/lib/python3.10/site-packages/tensorflow_io/python/ops/libtensorflow_io_plugins.so']\n",
      "caused by: ['/opt/conda/lib/python3.10/site-packages/tensorflow_io/python/ops/libtensorflow_io_plugins.so: undefined symbol: _ZN3tsl6StatusC1EN10tensorflow5error4CodeESt17basic_string_viewIcSt11char_traitsIcEENS_14SourceLocationE']\n",
      "  warnings.warn(f\"unable to load libtensorflow_io_plugins.so: {e}\")\n",
      "/opt/conda/lib/python3.10/site-packages/tensorflow_io/python/ops/__init__.py:104: UserWarning: file system plugins are not loaded: unable to open file: libtensorflow_io.so, from paths: ['/opt/conda/lib/python3.10/site-packages/tensorflow_io/python/ops/libtensorflow_io.so']\n",
      "caused by: ['/opt/conda/lib/python3.10/site-packages/tensorflow_io/python/ops/libtensorflow_io.so: undefined symbol: _ZTVN10tensorflow13GcsFileSystemE']\n",
      "  warnings.warn(f\"file system plugins are not loaded: {e}\")\n"
     ]
    },
    {
     "name": "stdout",
     "output_type": "stream",
     "text": [
      "Training Data:\n",
      "<class 'pandas.core.frame.DataFrame'>\n",
      "RangeIndex: 4920 entries, 0 to 4919\n",
      "Columns: 134 entries, itching to Unnamed: 133\n",
      "dtypes: float64(1), int64(132), object(1)\n",
      "memory usage: 5.0+ MB\n",
      "\n",
      "Test Data:\n",
      "<class 'pandas.core.frame.DataFrame'>\n",
      "RangeIndex: 42 entries, 0 to 41\n",
      "Columns: 133 entries, itching to prognosis\n",
      "dtypes: int64(132), object(1)\n",
      "memory usage: 43.8+ KB\n"
     ]
    }
   ],
   "source": [
    "# Importation of necessary packages/modules\n",
    "\n",
    "import numpy as np \n",
    "import pandas as pd \n",
    "\n",
    "import tensorflow as tf\n",
    "from tensorflow import keras\n",
    "\n",
    "from sklearn import preprocessing\n",
    "from sklearn.model_selection import train_test_split\n",
    "from sklearn.preprocessing import StandardScaler\n",
    "\n",
    "import matplotlib.pyplot as plt\n",
    "\n",
    "#Importation of dataset for training/testing data\n",
    "import os\n",
    "for dirname, _, filenames in os.walk('/kaggle/input/disease-prediction-using-machine-learning'):\n",
    "    for filename in filenames:\n",
    "        if filename == 'Training.csv':\n",
    "            train_filepath = os.path.join(dirname, filename)\n",
    "            training_data = pd.read_csv(train_filepath)\n",
    "        elif filename == 'Testing.csv':\n",
    "            test_filepath = os.path.join(dirname, filename)\n",
    "            test_data = pd.read_csv(test_filepath)\n",
    "\n",
    "#Check content of data variables\n",
    "print(\"Training Data:\")\n",
    "training_data.info()\n",
    "print(\"\\nTest Data:\")\n",
    "test_data.info()"
   ]
  },
  {
   "cell_type": "markdown",
   "id": "a1bf73ca",
   "metadata": {
    "papermill": {
     "duration": 0.004111,
     "end_time": "2023-07-27T08:49:19.879687",
     "exception": false,
     "start_time": "2023-07-27T08:49:19.875576",
     "status": "completed"
    },
    "tags": []
   },
   "source": [
    "**Data Preprocessing**"
   ]
  },
  {
   "cell_type": "code",
   "execution_count": 2,
   "id": "20eac2f5",
   "metadata": {
    "execution": {
     "iopub.execute_input": "2023-07-27T08:49:19.889977Z",
     "iopub.status.busy": "2023-07-27T08:49:19.889526Z",
     "iopub.status.idle": "2023-07-27T08:49:19.906189Z",
     "shell.execute_reply": "2023-07-27T08:49:19.904488Z"
    },
    "papermill": {
     "duration": 0.025385,
     "end_time": "2023-07-27T08:49:19.909232",
     "exception": false,
     "start_time": "2023-07-27T08:49:19.883847",
     "status": "completed"
    },
    "tags": []
   },
   "outputs": [
    {
     "data": {
      "text/plain": [
       "itching                    0\n",
       "skin_rash                  0\n",
       "nodal_skin_eruptions       0\n",
       "continuous_sneezing        0\n",
       "shivering                  0\n",
       "                        ... \n",
       "blister                    0\n",
       "red_sore_around_nose       0\n",
       "yellow_crust_ooze          0\n",
       "prognosis                  0\n",
       "Unnamed: 133            4920\n",
       "Length: 134, dtype: int64"
      ]
     },
     "execution_count": 2,
     "metadata": {},
     "output_type": "execute_result"
    }
   ],
   "source": [
    "# Check for columns with null values\n",
    "training_data.isnull().sum()"
   ]
  },
  {
   "cell_type": "code",
   "execution_count": 3,
   "id": "45a7e2eb",
   "metadata": {
    "execution": {
     "iopub.execute_input": "2023-07-27T08:49:19.919998Z",
     "iopub.status.busy": "2023-07-27T08:49:19.919612Z",
     "iopub.status.idle": "2023-07-27T08:49:19.929482Z",
     "shell.execute_reply": "2023-07-27T08:49:19.927895Z"
    },
    "papermill": {
     "duration": 0.018562,
     "end_time": "2023-07-27T08:49:19.932444",
     "exception": false,
     "start_time": "2023-07-27T08:49:19.913882",
     "status": "completed"
    },
    "tags": []
   },
   "outputs": [],
   "source": [
    "# Preprocess categorical data in prognosis column into numerical values\n",
    "dataframes = [training_data, test_data]\n",
    "\n",
    "label_encoder = preprocessing.LabelEncoder()\n",
    "for dataframe in dataframes:\n",
    "    dataframe['prognosis'] = label_encoder.fit_transform(dataframe['prognosis'])"
   ]
  },
  {
   "cell_type": "code",
   "execution_count": 4,
   "id": "97293ff4",
   "metadata": {
    "execution": {
     "iopub.execute_input": "2023-07-27T08:49:19.944198Z",
     "iopub.status.busy": "2023-07-27T08:49:19.943762Z",
     "iopub.status.idle": "2023-07-27T08:49:19.952098Z",
     "shell.execute_reply": "2023-07-27T08:49:19.950702Z"
    },
    "papermill": {
     "duration": 0.017799,
     "end_time": "2023-07-27T08:49:19.955138",
     "exception": false,
     "start_time": "2023-07-27T08:49:19.937339",
     "status": "completed"
    },
    "tags": []
   },
   "outputs": [],
   "source": [
    "# Convert DataFrame to Numpy Arrays\n",
    "training_numpy = training_data.to_numpy()\n",
    "test_numpy = test_data.to_numpy()"
   ]
  },
  {
   "cell_type": "code",
   "execution_count": 5,
   "id": "ed9ab6f5",
   "metadata": {
    "execution": {
     "iopub.execute_input": "2023-07-27T08:49:19.966493Z",
     "iopub.status.busy": "2023-07-27T08:49:19.966074Z",
     "iopub.status.idle": "2023-07-27T08:49:19.972536Z",
     "shell.execute_reply": "2023-07-27T08:49:19.971322Z"
    },
    "papermill": {
     "duration": 0.015401,
     "end_time": "2023-07-27T08:49:19.975357",
     "exception": false,
     "start_time": "2023-07-27T08:49:19.959956",
     "status": "completed"
    },
    "tags": []
   },
   "outputs": [],
   "source": [
    "# Separate features to target variables for both train/test data\n",
    "x_train = training_numpy[:,0:132]\n",
    "x_test = test_numpy[:,0:132]\n",
    "\n",
    "y_train = training_numpy[:,132]\n",
    "y_test = test_numpy[:,132]"
   ]
  },
  {
   "cell_type": "code",
   "execution_count": 6,
   "id": "19e70f14",
   "metadata": {
    "execution": {
     "iopub.execute_input": "2023-07-27T08:49:19.989019Z",
     "iopub.status.busy": "2023-07-27T08:49:19.988483Z",
     "iopub.status.idle": "2023-07-27T08:49:20.011186Z",
     "shell.execute_reply": "2023-07-27T08:49:20.009468Z"
    },
    "papermill": {
     "duration": 0.033415,
     "end_time": "2023-07-27T08:49:20.014468",
     "exception": false,
     "start_time": "2023-07-27T08:49:19.981053",
     "status": "completed"
    },
    "tags": []
   },
   "outputs": [],
   "source": [
    "# Scale data for effective NN training\n",
    "data_scaler = StandardScaler().fit(x_train)\n",
    "\n",
    "x_train = data_scaler.transform(x_train)\n",
    "x_test = data_scaler.transform(x_test)"
   ]
  },
  {
   "cell_type": "code",
   "execution_count": null,
   "id": "1d1a5ad9",
   "metadata": {
    "papermill": {
     "duration": 0.003876,
     "end_time": "2023-07-27T08:49:20.022704",
     "exception": false,
     "start_time": "2023-07-27T08:49:20.018828",
     "status": "completed"
    },
    "tags": []
   },
   "outputs": [],
   "source": []
  }
 ],
 "metadata": {
  "kernelspec": {
   "display_name": "Python 3",
   "language": "python",
   "name": "python3"
  },
  "language_info": {
   "codemirror_mode": {
    "name": "ipython",
    "version": 3
   },
   "file_extension": ".py",
   "mimetype": "text/x-python",
   "name": "python",
   "nbconvert_exporter": "python",
   "pygments_lexer": "ipython3",
   "version": "3.10.12"
  },
  "papermill": {
   "default_parameters": {},
   "duration": 28.922146,
   "end_time": "2023-07-27T08:49:22.890047",
   "environment_variables": {},
   "exception": null,
   "input_path": "__notebook__.ipynb",
   "output_path": "__notebook__.ipynb",
   "parameters": {},
   "start_time": "2023-07-27T08:48:53.967901",
   "version": "2.4.0"
  }
 },
 "nbformat": 4,
 "nbformat_minor": 5
}
