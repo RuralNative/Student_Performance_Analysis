{
 "cells": [
  {
   "cell_type": "markdown",
   "id": "3f2e2f52",
   "metadata": {
    "execution": {
     "iopub.execute_input": "2023-07-04T03:18:14.665479Z",
     "iopub.status.busy": "2023-07-04T03:18:14.665196Z",
     "iopub.status.idle": "2023-07-04T03:18:14.668557Z",
     "shell.execute_reply": "2023-07-04T03:18:14.667998Z",
     "shell.execute_reply.started": "2023-07-04T03:18:14.665460Z"
    },
    "papermill": {
     "duration": 0.006679,
     "end_time": "2023-07-04T06:10:24.613469",
     "exception": false,
     "start_time": "2023-07-04T06:10:24.606790",
     "status": "completed"
    },
    "tags": []
   },
   "source": [
    "# Student Performance: Predicting Student's Math Score"
   ]
  },
  {
   "cell_type": "markdown",
   "id": "39701e37",
   "metadata": {
    "execution": {
     "iopub.execute_input": "2023-07-04T03:17:20.476169Z",
     "iopub.status.busy": "2023-07-04T03:17:20.475829Z",
     "iopub.status.idle": "2023-07-04T03:17:20.482167Z",
     "shell.execute_reply": "2023-07-04T03:17:20.481043Z",
     "shell.execute_reply.started": "2023-07-04T03:17:20.476148Z"
    },
    "papermill": {
     "duration": 0.005208,
     "end_time": "2023-07-04T06:10:24.624503",
     "exception": false,
     "start_time": "2023-07-04T06:10:24.619295",
     "status": "completed"
    },
    "tags": []
   },
   "source": [
    "The goal of this notebook is to apply what I have previously learned from courses with regards to machine learning. For this, we will be evaluating the dataset of student performance and create a conclusive statement as to how features presented in the dataset could affect the math scores of our students."
   ]
  },
  {
   "cell_type": "markdown",
   "id": "b123da69",
   "metadata": {
    "papermill": {
     "duration": 0.005096,
     "end_time": "2023-07-04T06:10:24.635043",
     "exception": false,
     "start_time": "2023-07-04T06:10:24.629947",
     "status": "completed"
    },
    "tags": []
   },
   "source": [
    "Below we have written the necessary Python code for setting up our notebook, which includes the importation of the necessary libraries."
   ]
  },
  {
   "cell_type": "code",
   "execution_count": 1,
   "id": "772c2394",
   "metadata": {
    "_cell_guid": "b1076dfc-b9ad-4769-8c92-a6c4dae69d19",
    "_uuid": "8f2839f25d086af736a60e9eeb907d3b93b6e0e5",
    "execution": {
     "iopub.execute_input": "2023-07-04T06:10:24.647731Z",
     "iopub.status.busy": "2023-07-04T06:10:24.647161Z",
     "iopub.status.idle": "2023-07-04T06:10:26.133431Z",
     "shell.execute_reply": "2023-07-04T06:10:26.131758Z"
    },
    "papermill": {
     "duration": 1.495362,
     "end_time": "2023-07-04T06:10:26.135937",
     "exception": false,
     "start_time": "2023-07-04T06:10:24.640575",
     "status": "completed"
    },
    "tags": []
   },
   "outputs": [
    {
     "name": "stdout",
     "output_type": "stream",
     "text": [
      "<class 'pandas.core.frame.DataFrame'>\n",
      "RangeIndex: 1000 entries, 0 to 999\n",
      "Data columns (total 8 columns):\n",
      " #   Column                       Non-Null Count  Dtype \n",
      "---  ------                       --------------  ----- \n",
      " 0   gender                       1000 non-null   object\n",
      " 1   race/ethnicity               1000 non-null   object\n",
      " 2   parental level of education  1000 non-null   object\n",
      " 3   lunch                        1000 non-null   object\n",
      " 4   test preparation course      1000 non-null   object\n",
      " 5   math score                   1000 non-null   int64 \n",
      " 6   reading score                1000 non-null   int64 \n",
      " 7   writing score                1000 non-null   int64 \n",
      "dtypes: int64(3), object(5)\n",
      "memory usage: 62.6+ KB\n"
     ]
    }
   ],
   "source": [
    "import numpy as np \n",
    "import pandas as pd\n",
    "import seaborn as sns\n",
    "\n",
    "import matplotlib.pyplot as plot\n",
    "\n",
    "import os\n",
    "for dirname, _, filenames in os.walk('/kaggle/input/students-performance-in-exams'):\n",
    "    for filename in filenames:\n",
    "        file_path = (os.path.join(dirname, filename))\n",
    "        dataframe = pd.read_csv(file_path)\n",
    "        dataframe.info()"
   ]
  },
  {
   "cell_type": "markdown",
   "id": "e2586a78",
   "metadata": {
    "papermill": {
     "duration": 0.005238,
     "end_time": "2023-07-04T06:10:26.148325",
     "exception": false,
     "start_time": "2023-07-04T06:10:26.143087",
     "status": "completed"
    },
    "tags": []
   },
   "source": [
    "## Data Preprocessing"
   ]
  },
  {
   "cell_type": "markdown",
   "id": "b0cb661d",
   "metadata": {
    "papermill": {
     "duration": 0.005184,
     "end_time": "2023-07-04T06:10:26.158952",
     "exception": false,
     "start_time": "2023-07-04T06:10:26.153768",
     "status": "completed"
    },
    "tags": []
   },
   "source": [
    "Upon loading our dataframe from the CSV file, we have to **preprocess our data**. For this case, we will *analyze the content of our dataframe if empty/null cells exist*, and if there are, use **KNNImputer Transformation** functions to fill in the missing data. For our current dataframe, no empty/null cell exist so we can now move on to the next step of our development."
   ]
  },
  {
   "cell_type": "code",
   "execution_count": 2,
   "id": "032d0b72",
   "metadata": {
    "execution": {
     "iopub.execute_input": "2023-07-04T06:10:26.171461Z",
     "iopub.status.busy": "2023-07-04T06:10:26.171126Z",
     "iopub.status.idle": "2023-07-04T06:10:26.181236Z",
     "shell.execute_reply": "2023-07-04T06:10:26.180156Z"
    },
    "papermill": {
     "duration": 0.019224,
     "end_time": "2023-07-04T06:10:26.183579",
     "exception": false,
     "start_time": "2023-07-04T06:10:26.164355",
     "status": "completed"
    },
    "tags": []
   },
   "outputs": [
    {
     "data": {
      "text/plain": [
       "gender                         0\n",
       "race/ethnicity                 0\n",
       "parental level of education    0\n",
       "lunch                          0\n",
       "test preparation course        0\n",
       "math score                     0\n",
       "reading score                  0\n",
       "writing score                  0\n",
       "dtype: int64"
      ]
     },
     "execution_count": 2,
     "metadata": {},
     "output_type": "execute_result"
    }
   ],
   "source": [
    "dataframe.isnull().sum()"
   ]
  },
  {
   "cell_type": "markdown",
   "id": "20d7c2fe",
   "metadata": {
    "papermill": {
     "duration": 0.005395,
     "end_time": "2023-07-04T06:10:26.194970",
     "exception": false,
     "start_time": "2023-07-04T06:10:26.189575",
     "status": "completed"
    },
    "tags": []
   },
   "source": [
    "Using generics, we will replace the slash (/) from the race/ethnicity feature column with underscore (_) for simplicity"
   ]
  },
  {
   "cell_type": "code",
   "execution_count": 3,
   "id": "17a879d4",
   "metadata": {
    "execution": {
     "iopub.execute_input": "2023-07-04T06:10:26.208436Z",
     "iopub.status.busy": "2023-07-04T06:10:26.207780Z",
     "iopub.status.idle": "2023-07-04T06:10:26.219257Z",
     "shell.execute_reply": "2023-07-04T06:10:26.217949Z"
    },
    "papermill": {
     "duration": 0.020399,
     "end_time": "2023-07-04T06:10:26.221087",
     "exception": false,
     "start_time": "2023-07-04T06:10:26.200688",
     "status": "completed"
    },
    "tags": []
   },
   "outputs": [
    {
     "name": "stdout",
     "output_type": "stream",
     "text": [
      "<class 'pandas.core.frame.DataFrame'>\n",
      "RangeIndex: 1000 entries, 0 to 999\n",
      "Data columns (total 8 columns):\n",
      " #   Column                       Non-Null Count  Dtype \n",
      "---  ------                       --------------  ----- \n",
      " 0   gender                       1000 non-null   object\n",
      " 1   race_ethnicity               1000 non-null   object\n",
      " 2   parental level of education  1000 non-null   object\n",
      " 3   lunch                        1000 non-null   object\n",
      " 4   test preparation course      1000 non-null   object\n",
      " 5   math score                   1000 non-null   int64 \n",
      " 6   reading score                1000 non-null   int64 \n",
      " 7   writing score                1000 non-null   int64 \n",
      "dtypes: int64(3), object(5)\n",
      "memory usage: 62.6+ KB\n"
     ]
    }
   ],
   "source": [
    "dataframe.columns = [column.replace(\"/\", \"_\") for column in dataframe.columns]\n",
    "dataframe.info()"
   ]
  },
  {
   "cell_type": "markdown",
   "id": "e8aff730",
   "metadata": {
    "papermill": {
     "duration": 0.005369,
     "end_time": "2023-07-04T06:10:26.232218",
     "exception": false,
     "start_time": "2023-07-04T06:10:26.226849",
     "status": "completed"
    },
    "tags": []
   },
   "source": [
    "## Data Visualization"
   ]
  },
  {
   "cell_type": "markdown",
   "id": "3f1885ba",
   "metadata": {
    "papermill": {
     "duration": 0.005337,
     "end_time": "2023-07-04T06:10:26.243082",
     "exception": false,
     "start_time": "2023-07-04T06:10:26.237745",
     "status": "completed"
    },
    "tags": []
   },
   "source": [
    "For this phase, we will visualize our data using **histograms** and **heatmaps** to check for overall distribution and correlations between our different dataset features. This is an important step as it allows us to fully understand our dataset as a whole, and modify it to fully accomplish the task at hand. For this, we will use **Matplotlib** and **Seaborn** libraries to accomplish these tasks."
   ]
  },
  {
   "cell_type": "markdown",
   "id": "dc6f6466",
   "metadata": {
    "papermill": {
     "duration": 0.005267,
     "end_time": "2023-07-04T06:10:26.253780",
     "exception": false,
     "start_time": "2023-07-04T06:10:26.248513",
     "status": "completed"
    },
    "tags": []
   },
   "source": [
    "### Histograms"
   ]
  },
  {
   "cell_type": "markdown",
   "id": "daf69bee",
   "metadata": {
    "papermill": {
     "duration": 0.005132,
     "end_time": "2023-07-04T06:10:26.264345",
     "exception": false,
     "start_time": "2023-07-04T06:10:26.259213",
     "status": "completed"
    },
    "tags": []
   },
   "source": [
    "Histograms visualize the distribution of data in our dataset. Note that our histograms are only displaying results from our dataset's numerical data which are the math_score, reading_score, and writing_score"
   ]
  },
  {
   "cell_type": "code",
   "execution_count": 4,
   "id": "71a37792",
   "metadata": {
    "execution": {
     "iopub.execute_input": "2023-07-04T06:10:26.277746Z",
     "iopub.status.busy": "2023-07-04T06:10:26.276640Z",
     "iopub.status.idle": "2023-07-04T06:10:27.269470Z",
     "shell.execute_reply": "2023-07-04T06:10:27.268619Z"
    },
    "papermill": {
     "duration": 1.001575,
     "end_time": "2023-07-04T06:10:27.271447",
     "exception": false,
     "start_time": "2023-07-04T06:10:26.269872",
     "status": "completed"
    },
    "tags": []
   },
   "outputs": [
    {
     "data": {
      "image/png": "[encoded data removed]",
      "text/plain": [
       "<Figure size 800x800 with 4 Axes>"
      ]
     },
     "metadata": {},
     "output_type": "display_data"
    }
   ],
   "source": [
    "histogram_plots = dataframe.hist( bins = 100, figsize = (8,8))\n",
    "for his_plot in histogram_plots.flatten():\n",
    "    his_plot.set_xlabel('Count')\n",
    "    his_plot.set_ylabel('Score')\n",
    "    break"
   ]
  },
  {
   "cell_type": "markdown",
   "id": "87031268",
   "metadata": {
    "execution": {
     "iopub.execute_input": "2023-07-04T03:49:50.474973Z",
     "iopub.status.busy": "2023-07-04T03:49:50.474643Z",
     "iopub.status.idle": "2023-07-04T03:49:50.478410Z",
     "shell.execute_reply": "2023-07-04T03:49:50.477876Z",
     "shell.execute_reply.started": "2023-07-04T03:49:50.474951Z"
    },
    "papermill": {
     "duration": 0.005848,
     "end_time": "2023-07-04T06:10:27.283482",
     "exception": false,
     "start_time": "2023-07-04T06:10:27.277634",
     "status": "completed"
    },
    "tags": []
   },
   "source": [
    "### Heatmaps"
   ]
  },
  {
   "cell_type": "markdown",
   "id": "b8d3e631",
   "metadata": {
    "papermill": {
     "duration": 0.006069,
     "end_time": "2023-07-04T06:10:27.295639",
     "exception": false,
     "start_time": "2023-07-04T06:10:27.289570",
     "status": "completed"
    },
    "tags": []
   },
   "source": [
    "To visualize our dataframe's numerical data in heatmaps, we have to first identify the correlational relationships of our features using regression analysis. The values would then be used to layout a heatmap."
   ]
  },
  {
   "cell_type": "code",
   "execution_count": 5,
   "id": "512136a8",
   "metadata": {
    "execution": {
     "iopub.execute_input": "2023-07-04T06:10:27.310349Z",
     "iopub.status.busy": "2023-07-04T06:10:27.309213Z",
     "iopub.status.idle": "2023-07-04T06:10:27.327331Z",
     "shell.execute_reply": "2023-07-04T06:10:27.325568Z"
    },
    "papermill": {
     "duration": 0.027905,
     "end_time": "2023-07-04T06:10:27.329747",
     "exception": false,
     "start_time": "2023-07-04T06:10:27.301842",
     "status": "completed"
    },
    "tags": []
   },
   "outputs": [
    {
     "name": "stdout",
     "output_type": "stream",
     "text": [
      "               math score  reading score  writing score\n",
      "math score       1.000000       0.819398       0.805944\n",
      "reading score    0.819398       1.000000       0.954274\n",
      "writing score    0.805944       0.954274       1.000000\n"
     ]
    }
   ],
   "source": [
    "dataframe_numerics = dataframe.select_dtypes(include = (np.number))\n",
    "correlational_values = dataframe.corr(numeric_only = True)\n",
    "print(correlational_values)"
   ]
  },
  {
   "cell_type": "markdown",
   "id": "fd6dec4d",
   "metadata": {
    "papermill": {
     "duration": 0.006026,
     "end_time": "2023-07-04T06:10:27.342265",
     "exception": false,
     "start_time": "2023-07-04T06:10:27.336239",
     "status": "completed"
    },
    "tags": []
   },
   "source": [
    "Note that our heatmaps are showing results from our dataframe's numerical data, which are math_score, writing_score, and reading_score"
   ]
  },
  {
   "cell_type": "code",
   "execution_count": 6,
   "id": "f416bfb7",
   "metadata": {
    "execution": {
     "iopub.execute_input": "2023-07-04T06:10:27.356346Z",
     "iopub.status.busy": "2023-07-04T06:10:27.356026Z",
     "iopub.status.idle": "2023-07-04T06:10:27.579271Z",
     "shell.execute_reply": "2023-07-04T06:10:27.577924Z"
    },
    "papermill": {
     "duration": 0.232721,
     "end_time": "2023-07-04T06:10:27.581156",
     "exception": false,
     "start_time": "2023-07-04T06:10:27.348435",
     "status": "completed"
    },
    "tags": []
   },
   "outputs": [
    {
     "data": {
      "image/png": "[encoded data removed]",
      "text/plain": [
       "<Figure size 800x800 with 2 Axes>"
      ]
     },
     "metadata": {},
     "output_type": "display_data"
    }
   ],
   "source": [
    "plot.figure(figsize =(8,8))\n",
    "\n",
    "sns.heatmap(correlational_values, annot = True)\n",
    "plot.show()"
   ]
  },
  {
   "cell_type": "markdown",
   "id": "e26a199f",
   "metadata": {
    "papermill": {
     "duration": 0.006101,
     "end_time": "2023-07-04T06:10:27.593745",
     "exception": false,
     "start_time": "2023-07-04T06:10:27.587644",
     "status": "completed"
    },
    "tags": []
   },
   "source": [
    "## Feature Engineering"
   ]
  },
  {
   "cell_type": "markdown",
   "id": "77757ec5",
   "metadata": {
    "papermill": {
     "duration": 0.006092,
     "end_time": "2023-07-04T06:10:27.606196",
     "exception": false,
     "start_time": "2023-07-04T06:10:27.600104",
     "status": "completed"
    },
    "tags": []
   },
   "source": [
    "With the help of our data now properly visualize, we can conclude in two things: first, the majority of our features are categorical in nature and needs to be encode into numerical format for our model to use for training; and second, we have two numerical features: reading_score and writing_score that are highly correlated making them candidates for removal or merging. Highly correlated features teach our model the same things, so to ensure an optimized model training it is necessary to remove one of them, or even better, combine them into one single feature."
   ]
  },
  {
   "cell_type": "markdown",
   "id": "c52553a9",
   "metadata": {
    "papermill": {
     "duration": 0.006172,
     "end_time": "2023-07-04T06:10:27.618704",
     "exception": false,
     "start_time": "2023-07-04T06:10:27.612532",
     "status": "completed"
    },
    "tags": []
   },
   "source": [
    "### Encoding of Categorical Data to Numerical Data"
   ]
  },
  {
   "cell_type": "markdown",
   "id": "3252adcd",
   "metadata": {
    "papermill": {
     "duration": 0.006081,
     "end_time": "2023-07-04T06:10:27.631067",
     "exception": false,
     "start_time": "2023-07-04T06:10:27.624986",
     "status": "completed"
    },
    "tags": []
   },
   "source": [
    "First, we will encode our categorical features - gender, race/ethnicity, parental level of education, lunch, and test preparation course - into numerical features using Pandas."
   ]
  },
  {
   "cell_type": "code",
   "execution_count": 7,
   "id": "97bf0771",
   "metadata": {
    "execution": {
     "iopub.execute_input": "2023-07-04T06:10:27.645424Z",
     "iopub.status.busy": "2023-07-04T06:10:27.645076Z",
     "iopub.status.idle": "2023-07-04T06:10:27.656813Z",
     "shell.execute_reply": "2023-07-04T06:10:27.655444Z"
    },
    "papermill": {
     "duration": 0.021563,
     "end_time": "2023-07-04T06:10:27.658918",
     "exception": false,
     "start_time": "2023-07-04T06:10:27.637355",
     "status": "completed"
    },
    "tags": []
   },
   "outputs": [
    {
     "name": "stdout",
     "output_type": "stream",
     "text": [
      "<class 'pandas.core.frame.DataFrame'>\n",
      "RangeIndex: 1000 entries, 0 to 999\n",
      "Data columns (total 5 columns):\n",
      " #   Column                       Non-Null Count  Dtype \n",
      "---  ------                       --------------  ----- \n",
      " 0   gender                       1000 non-null   object\n",
      " 1   race_ethnicity               1000 non-null   object\n",
      " 2   parental level of education  1000 non-null   object\n",
      " 3   lunch                        1000 non-null   object\n",
      " 4   test preparation course      1000 non-null   object\n",
      "dtypes: object(5)\n",
      "memory usage: 39.2+ KB\n"
     ]
    }
   ],
   "source": [
    "#Categorical features present in our dataframe\n",
    "dataframe_categoricals = dataframe.select_dtypes('object')\n",
    "dataframe_categoricals.info()"
   ]
  },
  {
   "cell_type": "code",
   "execution_count": 8,
   "id": "d8504734",
   "metadata": {
    "execution": {
     "iopub.execute_input": "2023-07-04T06:10:27.673976Z",
     "iopub.status.busy": "2023-07-04T06:10:27.673609Z",
     "iopub.status.idle": "2023-07-04T06:10:27.680215Z",
     "shell.execute_reply": "2023-07-04T06:10:27.679159Z"
    },
    "papermill": {
     "duration": 0.016378,
     "end_time": "2023-07-04T06:10:27.681929",
     "exception": false,
     "start_time": "2023-07-04T06:10:27.665551",
     "status": "completed"
    },
    "tags": []
   },
   "outputs": [
    {
     "data": {
      "text/plain": [
       "array([['male', 'group A', 'high school', 'standard', 'completed'],\n",
       "       ['female', 'group D', 'some high school', 'free/reduced', 'none'],\n",
       "       ['male', 'group E', 'some college', 'free/reduced', 'none'],\n",
       "       ...,\n",
       "       ['female', 'group C', 'some high school', 'free/reduced', 'none'],\n",
       "       ['female', 'group C', 'some college', 'standard', 'none'],\n",
       "       ['male', 'group A', 'some college', 'standard', 'completed']],\n",
       "      dtype=object)"
      ]
     },
     "execution_count": 8,
     "metadata": {},
     "output_type": "execute_result"
    }
   ],
   "source": [
    "# Shows unique values for each categorical feature\n",
    "dataframe_categoricals.to_numpy()"
   ]
  },
  {
   "cell_type": "code",
   "execution_count": 9,
   "id": "b8b10bb0",
   "metadata": {
    "execution": {
     "iopub.execute_input": "2023-07-04T06:10:27.697593Z",
     "iopub.status.busy": "2023-07-04T06:10:27.697236Z",
     "iopub.status.idle": "2023-07-04T06:10:27.706715Z",
     "shell.execute_reply": "2023-07-04T06:10:27.705657Z"
    },
    "papermill": {
     "duration": 0.019924,
     "end_time": "2023-07-04T06:10:27.709072",
     "exception": false,
     "start_time": "2023-07-04T06:10:27.689148",
     "status": "completed"
    },
    "tags": []
   },
   "outputs": [
    {
     "name": "stdout",
     "output_type": "stream",
     "text": [
      "\n",
      "GENDER Feature\n",
      "male      517\n",
      "female    483\n",
      "Name: gender, dtype: int64\n",
      "\n",
      "RACE_ETHNICITY Feature\n",
      "group C    323\n",
      "group D    262\n",
      "group B    205\n",
      "group E    131\n",
      "group A     79\n",
      "Name: race_ethnicity, dtype: int64\n",
      "\n",
      "PARENTAL LEVEL OF EDUCATION Feature\n",
      "some college          222\n",
      "associate's degree    203\n",
      "high school           202\n",
      "some high school      191\n",
      "bachelor's degree     112\n",
      "master's degree        70\n",
      "Name: parental level of education, dtype: int64\n",
      "\n",
      "LUNCH Feature\n",
      "standard        652\n",
      "free/reduced    348\n",
      "Name: lunch, dtype: int64\n",
      "\n",
      "TEST PREPARATION COURSE Feature\n",
      "none         665\n",
      "completed    335\n",
      "Name: test preparation course, dtype: int64\n"
     ]
    }
   ],
   "source": [
    "# Check count for each unique value for each feature\n",
    "column_names = dataframe_categoricals.columns\n",
    "for column in column_names:\n",
    "    print(f\"\\n{column.upper()} Feature\")\n",
    "    print(dataframe[column].value_counts())"
   ]
  },
  {
   "cell_type": "code",
   "execution_count": 10,
   "id": "a0d62271",
   "metadata": {
    "execution": {
     "iopub.execute_input": "2023-07-04T06:10:27.724772Z",
     "iopub.status.busy": "2023-07-04T06:10:27.724424Z",
     "iopub.status.idle": "2023-07-04T06:10:27.746010Z",
     "shell.execute_reply": "2023-07-04T06:10:27.743839Z"
    },
    "papermill": {
     "duration": 0.031486,
     "end_time": "2023-07-04T06:10:27.747823",
     "exception": false,
     "start_time": "2023-07-04T06:10:27.716337",
     "status": "completed"
    },
    "tags": []
   },
   "outputs": [
    {
     "name": "stdout",
     "output_type": "stream",
     "text": [
      "\n",
      "GENDER Feature\n",
      "     female  male\n",
      "0         0     1\n",
      "1         1     0\n",
      "2         0     1\n",
      "3         0     1\n",
      "4         0     1\n",
      "..      ...   ...\n",
      "995       0     1\n",
      "996       0     1\n",
      "997       1     0\n",
      "998       1     0\n",
      "999       0     1\n",
      "\n",
      "[1000 rows x 2 columns]\n",
      "\n",
      "RACE_ETHNICITY Feature\n",
      "     group A  group B  group C  group D  group E\n",
      "0          1        0        0        0        0\n",
      "1          0        0        0        1        0\n",
      "2          0        0        0        0        1\n",
      "3          0        1        0        0        0\n",
      "4          0        0        0        0        1\n",
      "..       ...      ...      ...      ...      ...\n",
      "995        0        0        1        0        0\n",
      "996        0        0        0        1        0\n",
      "997        0        0        1        0        0\n",
      "998        0        0        1        0        0\n",
      "999        1        0        0        0        0\n",
      "\n",
      "[1000 rows x 5 columns]\n",
      "\n",
      "PARENTAL LEVEL OF EDUCATION Feature\n",
      "     associate's degree  bachelor's degree  high school  master's degree  \\\n",
      "0                     0                  0            1                0   \n",
      "1                     0                  0            0                0   \n",
      "2                     0                  0            0                0   \n",
      "3                     0                  0            1                0   \n",
      "4                     1                  0            0                0   \n",
      "..                  ...                ...          ...              ...   \n",
      "995                   0                  0            1                0   \n",
      "996                   1                  0            0                0   \n",
      "997                   0                  0            0                0   \n",
      "998                   0                  0            0                0   \n",
      "999                   0                  0            0                0   \n",
      "\n",
      "     some college  some high school  \n",
      "0               0                 0  \n",
      "1               0                 1  \n",
      "2               1                 0  \n",
      "3               0                 0  \n",
      "4               0                 0  \n",
      "..            ...               ...  \n",
      "995             0                 0  \n",
      "996             0                 0  \n",
      "997             0                 1  \n",
      "998             1                 0  \n",
      "999             1                 0  \n",
      "\n",
      "[1000 rows x 6 columns]\n",
      "\n",
      "LUNCH Feature\n",
      "     free/reduced  standard\n",
      "0               0         1\n",
      "1               1         0\n",
      "2               1         0\n",
      "3               0         1\n",
      "4               0         1\n",
      "..            ...       ...\n",
      "995             0         1\n",
      "996             1         0\n",
      "997             1         0\n",
      "998             0         1\n",
      "999             0         1\n",
      "\n",
      "[1000 rows x 2 columns]\n",
      "\n",
      "TEST PREPARATION COURSE Feature\n",
      "     completed  none\n",
      "0            1     0\n",
      "1            0     1\n",
      "2            0     1\n",
      "3            0     1\n",
      "4            1     0\n",
      "..         ...   ...\n",
      "995          0     1\n",
      "996          1     0\n",
      "997          0     1\n",
      "998          0     1\n",
      "999          1     0\n",
      "\n",
      "[1000 rows x 2 columns]\n"
     ]
    }
   ],
   "source": [
    "# Shows probable new features as dummies if each feature are encoded into numerical data with binary values, referring to either True (1), or False (0)\n",
    "for column in column_names:\n",
    "    print(f\"\\n{column.upper()} Feature\")\n",
    "    print(pd.get_dummies(dataframe[column]))"
   ]
  },
  {
   "cell_type": "markdown",
   "id": "cab3cd66",
   "metadata": {
    "papermill": {
     "duration": 0.006599,
     "end_time": "2023-07-04T06:10:27.761577",
     "exception": false,
     "start_time": "2023-07-04T06:10:27.754978",
     "status": "completed"
    },
    "tags": []
   },
   "source": [
    "With the information we have, we can now move on in encoding our features into numerical values of binary nature using the Pandas get_dummies() function"
   ]
  },
  {
   "cell_type": "code",
   "execution_count": 11,
   "id": "eba953cf",
   "metadata": {
    "execution": {
     "iopub.execute_input": "2023-07-04T06:10:27.776943Z",
     "iopub.status.busy": "2023-07-04T06:10:27.776602Z",
     "iopub.status.idle": "2023-07-04T06:10:27.806563Z",
     "shell.execute_reply": "2023-07-04T06:10:27.805178Z"
    },
    "papermill": {
     "duration": 0.040135,
     "end_time": "2023-07-04T06:10:27.808818",
     "exception": false,
     "start_time": "2023-07-04T06:10:27.768683",
     "status": "completed"
    },
    "tags": []
   },
   "outputs": [
    {
     "data": {
      "text/html": [
       "<div>\n",
       "<style scoped>\n",
       "    .dataframe tbody tr th:only-of-type {\n",
       "        vertical-align: middle;\n",
       "    }\n",
       "\n",
       "    .dataframe tbody tr th {\n",
       "        vertical-align: top;\n",
       "    }\n",
       "\n",
       "    .dataframe thead th {\n",
       "        text-align: right;\n",
       "    }\n",
       "</style>\n",
       "<table border=\"1\" class=\"dataframe\">\n",
       "  <thead>\n",
       "    <tr style=\"text-align: right;\">\n",
       "      <th></th>\n",
       "      <th>math score</th>\n",
       "      <th>reading score</th>\n",
       "      <th>writing score</th>\n",
       "      <th>gender_female</th>\n",
       "      <th>gender_male</th>\n",
       "      <th>race_ethnicity_group A</th>\n",
       "      <th>race_ethnicity_group B</th>\n",
       "      <th>race_ethnicity_group C</th>\n",
       "      <th>race_ethnicity_group D</th>\n",
       "      <th>race_ethnicity_group E</th>\n",
       "      <th>parental level of education_associate's degree</th>\n",
       "      <th>parental level of education_bachelor's degree</th>\n",
       "      <th>parental level of education_high school</th>\n",
       "      <th>parental level of education_master's degree</th>\n",
       "      <th>parental level of education_some college</th>\n",
       "      <th>parental level of education_some high school</th>\n",
       "      <th>lunch_free/reduced</th>\n",
       "      <th>lunch_standard</th>\n",
       "      <th>test preparation course_completed</th>\n",
       "      <th>test preparation course_none</th>\n",
       "    </tr>\n",
       "  </thead>\n",
       "  <tbody>\n",
       "    <tr>\n",
       "      <th>0</th>\n",
       "      <td>67</td>\n",
       "      <td>67</td>\n",
       "      <td>63</td>\n",
       "      <td>0</td>\n",
       "      <td>1</td>\n",
       "      <td>1</td>\n",
       "      <td>0</td>\n",
       "      <td>0</td>\n",
       "      <td>0</td>\n",
       "      <td>0</td>\n",
       "      <td>0</td>\n",
       "      <td>0</td>\n",
       "      <td>1</td>\n",
       "      <td>0</td>\n",
       "      <td>0</td>\n",
       "      <td>0</td>\n",
       "      <td>0</td>\n",
       "      <td>1</td>\n",
       "      <td>1</td>\n",
       "      <td>0</td>\n",
       "    </tr>\n",
       "    <tr>\n",
       "      <th>1</th>\n",
       "      <td>40</td>\n",
       "      <td>59</td>\n",
       "      <td>55</td>\n",
       "      <td>1</td>\n",
       "      <td>0</td>\n",
       "      <td>0</td>\n",
       "      <td>0</td>\n",
       "      <td>0</td>\n",
       "      <td>1</td>\n",
       "      <td>0</td>\n",
       "      <td>0</td>\n",
       "      <td>0</td>\n",
       "      <td>0</td>\n",
       "      <td>0</td>\n",
       "      <td>0</td>\n",
       "      <td>1</td>\n",
       "      <td>1</td>\n",
       "      <td>0</td>\n",
       "      <td>0</td>\n",
       "      <td>1</td>\n",
       "    </tr>\n",
       "    <tr>\n",
       "      <th>2</th>\n",
       "      <td>59</td>\n",
       "      <td>60</td>\n",
       "      <td>50</td>\n",
       "      <td>0</td>\n",
       "      <td>1</td>\n",
       "      <td>0</td>\n",
       "      <td>0</td>\n",
       "      <td>0</td>\n",
       "      <td>0</td>\n",
       "      <td>1</td>\n",
       "      <td>0</td>\n",
       "      <td>0</td>\n",
       "      <td>0</td>\n",
       "      <td>0</td>\n",
       "      <td>1</td>\n",
       "      <td>0</td>\n",
       "      <td>1</td>\n",
       "      <td>0</td>\n",
       "      <td>0</td>\n",
       "      <td>1</td>\n",
       "    </tr>\n",
       "    <tr>\n",
       "      <th>3</th>\n",
       "      <td>77</td>\n",
       "      <td>78</td>\n",
       "      <td>68</td>\n",
       "      <td>0</td>\n",
       "      <td>1</td>\n",
       "      <td>0</td>\n",
       "      <td>1</td>\n",
       "      <td>0</td>\n",
       "      <td>0</td>\n",
       "      <td>0</td>\n",
       "      <td>0</td>\n",
       "      <td>0</td>\n",
       "      <td>1</td>\n",
       "      <td>0</td>\n",
       "      <td>0</td>\n",
       "      <td>0</td>\n",
       "      <td>0</td>\n",
       "      <td>1</td>\n",
       "      <td>0</td>\n",
       "      <td>1</td>\n",
       "    </tr>\n",
       "    <tr>\n",
       "      <th>4</th>\n",
       "      <td>78</td>\n",
       "      <td>73</td>\n",
       "      <td>68</td>\n",
       "      <td>0</td>\n",
       "      <td>1</td>\n",
       "      <td>0</td>\n",
       "      <td>0</td>\n",
       "      <td>0</td>\n",
       "      <td>0</td>\n",
       "      <td>1</td>\n",
       "      <td>1</td>\n",
       "      <td>0</td>\n",
       "      <td>0</td>\n",
       "      <td>0</td>\n",
       "      <td>0</td>\n",
       "      <td>0</td>\n",
       "      <td>0</td>\n",
       "      <td>1</td>\n",
       "      <td>1</td>\n",
       "      <td>0</td>\n",
       "    </tr>\n",
       "  </tbody>\n",
       "</table>\n",
       "</div>"
      ],
      "text/plain": [
       "   math score  reading score  writing score  gender_female  gender_male  \\\n",
       "0          67             67             63              0            1   \n",
       "1          40             59             55              1            0   \n",
       "2          59             60             50              0            1   \n",
       "3          77             78             68              0            1   \n",
       "4          78             73             68              0            1   \n",
       "\n",
       "   race_ethnicity_group A  race_ethnicity_group B  race_ethnicity_group C  \\\n",
       "0                       1                       0                       0   \n",
       "1                       0                       0                       0   \n",
       "2                       0                       0                       0   \n",
       "3                       0                       1                       0   \n",
       "4                       0                       0                       0   \n",
       "\n",
       "   race_ethnicity_group D  race_ethnicity_group E  \\\n",
       "0                       0                       0   \n",
       "1                       1                       0   \n",
       "2                       0                       1   \n",
       "3                       0                       0   \n",
       "4                       0                       1   \n",
       "\n",
       "   parental level of education_associate's degree  \\\n",
       "0                                               0   \n",
       "1                                               0   \n",
       "2                                               0   \n",
       "3                                               0   \n",
       "4                                               1   \n",
       "\n",
       "   parental level of education_bachelor's degree  \\\n",
       "0                                              0   \n",
       "1                                              0   \n",
       "2                                              0   \n",
       "3                                              0   \n",
       "4                                              0   \n",
       "\n",
       "   parental level of education_high school  \\\n",
       "0                                        1   \n",
       "1                                        0   \n",
       "2                                        0   \n",
       "3                                        1   \n",
       "4                                        0   \n",
       "\n",
       "   parental level of education_master's degree  \\\n",
       "0                                            0   \n",
       "1                                            0   \n",
       "2                                            0   \n",
       "3                                            0   \n",
       "4                                            0   \n",
       "\n",
       "   parental level of education_some college  \\\n",
       "0                                         0   \n",
       "1                                         0   \n",
       "2                                         1   \n",
       "3                                         0   \n",
       "4                                         0   \n",
       "\n",
       "   parental level of education_some high school  lunch_free/reduced  \\\n",
       "0                                             0                   0   \n",
       "1                                             1                   1   \n",
       "2                                             0                   1   \n",
       "3                                             0                   0   \n",
       "4                                             0                   0   \n",
       "\n",
       "   lunch_standard  test preparation course_completed  \\\n",
       "0               1                                  1   \n",
       "1               0                                  0   \n",
       "2               0                                  0   \n",
       "3               1                                  0   \n",
       "4               1                                  1   \n",
       "\n",
       "   test preparation course_none  \n",
       "0                             0  \n",
       "1                             1  \n",
       "2                             1  \n",
       "3                             1  \n",
       "4                             0  "
      ]
     },
     "execution_count": 11,
     "metadata": {},
     "output_type": "execute_result"
    }
   ],
   "source": [
    "dataframe_encoded = pd.get_dummies(data = dataframe, columns = column_names)\n",
    "dataframe_encoded.head()"
   ]
  },
  {
   "cell_type": "code",
   "execution_count": 12,
   "id": "101fef6f",
   "metadata": {
    "execution": {
     "iopub.execute_input": "2023-07-04T06:10:27.824983Z",
     "iopub.status.busy": "2023-07-04T06:10:27.824618Z",
     "iopub.status.idle": "2023-07-04T06:10:27.836747Z",
     "shell.execute_reply": "2023-07-04T06:10:27.835263Z"
    },
    "papermill": {
     "duration": 0.022102,
     "end_time": "2023-07-04T06:10:27.838470",
     "exception": false,
     "start_time": "2023-07-04T06:10:27.816368",
     "status": "completed"
    },
    "tags": []
   },
   "outputs": [
    {
     "name": "stdout",
     "output_type": "stream",
     "text": [
      "<class 'pandas.core.frame.DataFrame'>\n",
      "RangeIndex: 1000 entries, 0 to 999\n",
      "Data columns (total 20 columns):\n",
      " #   Column                                          Non-Null Count  Dtype\n",
      "---  ------                                          --------------  -----\n",
      " 0   math score                                      1000 non-null   int64\n",
      " 1   reading score                                   1000 non-null   int64\n",
      " 2   writing score                                   1000 non-null   int64\n",
      " 3   gender_female                                   1000 non-null   uint8\n",
      " 4   gender_male                                     1000 non-null   uint8\n",
      " 5   race_ethnicity_group A                          1000 non-null   uint8\n",
      " 6   race_ethnicity_group B                          1000 non-null   uint8\n",
      " 7   race_ethnicity_group C                          1000 non-null   uint8\n",
      " 8   race_ethnicity_group D                          1000 non-null   uint8\n",
      " 9   race_ethnicity_group E                          1000 non-null   uint8\n",
      " 10  parental level of education_associate's degree  1000 non-null   uint8\n",
      " 11  parental level of education_bachelor's degree   1000 non-null   uint8\n",
      " 12  parental level of education_high school         1000 non-null   uint8\n",
      " 13  parental level of education_master's degree     1000 non-null   uint8\n",
      " 14  parental level of education_some college        1000 non-null   uint8\n",
      " 15  parental level of education_some high school    1000 non-null   uint8\n",
      " 16  lunch_free/reduced                              1000 non-null   uint8\n",
      " 17  lunch_standard                                  1000 non-null   uint8\n",
      " 18  test preparation course_completed               1000 non-null   uint8\n",
      " 19  test preparation course_none                    1000 non-null   uint8\n",
      "dtypes: int64(3), uint8(17)\n",
      "memory usage: 40.2 KB\n"
     ]
    }
   ],
   "source": [
    "dataframe_encoded.info()"
   ]
  },
  {
   "cell_type": "code",
   "execution_count": null,
   "id": "abcae24d",
   "metadata": {
    "papermill": {
     "duration": 0.007155,
     "end_time": "2023-07-04T06:10:27.853312",
     "exception": false,
     "start_time": "2023-07-04T06:10:27.846157",
     "status": "completed"
    },
    "tags": []
   },
   "outputs": [],
   "source": []
  }
 ],
 "metadata": {
  "kernelspec": {
   "display_name": "Python 3",
   "language": "python",
   "name": "python3"
  },
  "language_info": {
   "codemirror_mode": {
    "name": "ipython",
    "version": 3
   },
   "file_extension": ".py",
   "mimetype": "text/x-python",
   "name": "python",
   "nbconvert_exporter": "python",
   "pygments_lexer": "ipython3",
   "version": "3.10.10"
  },
  "papermill": {
   "default_parameters": {},
   "duration": 13.022287,
   "end_time": "2023-07-04T06:10:28.780841",
   "environment_variables": {},
   "exception": null,
   "input_path": "__notebook__.ipynb",
   "output_path": "__notebook__.ipynb",
   "parameters": {},
   "start_time": "2023-07-04T06:10:15.758554",
   "version": "2.4.0"
  }
 },
 "nbformat": 4,
 "nbformat_minor": 5
}
